{
 "cells": [
  {
   "cell_type": "markdown",
   "metadata": {
    "_cell_guid": "6d509018-bf92-4113-9d58-61b430a7e8ec",
    "_uuid": "a87f889a-c5eb-4791-b5b4-32aee191656a",
    "collapsed": false,
    "jupyter": {
     "outputs_hidden": false
    },
    "trusted": true
   },
   "source": [
    "# Customer Journey Analysis using the Retailrocket Dataset\n",
    "\n",
    "GitHub: https://github.com/revanth-muppana/CS5632-Final\n",
    "\n",
    "## 1. Project Overview and Problem Statement\n",
    "\n",
    "**Problem Description:**  \n",
    "In today’s competitive e-commerce world, understanding how users navigate and interact with a website is crucial for optimizing user experience and marketing strategies. This project leverages unsupervised learning techniques to analyze customer journeys using the Retailrocket dataset. By clustering user sessions based on events such as page view, addtocart, and transaction (sourced from events.csv), we aim to uncover hidden patterns and identify distinct behavioral archetypes.\n",
    "\n",
    "**Learning Task:**  \n",
    "Unsupervised Learning – Clustering, Dimensionality Reduction, and Association Analysis\n",
    "\n",
    "**Project Goal:**  \n",
    "The goal is to segment user sessions into meaningful clusters that reflect different engagement levels and navigation styles. The insights can help e-commerce businesses tailor marketing strategies, optimize site design, and offer personalized recommendations."
   ]
  },
  {
   "cell_type": "markdown",
   "metadata": {
    "_cell_guid": "d5d15b09-ee66-4c87-86a7-ecd660d896d0",
    "_uuid": "321f3e97-f779-4e5f-a709-985fa332ba7a",
    "collapsed": false,
    "jupyter": {
     "outputs_hidden": false
    },
    "trusted": true
   },
   "source": [
    "## 2. Data Source and Description\n",
    "\n",
    "**Dataset:**  \n",
    "There are multiple files in the Retailrocket dataset:\n",
    "- **events.csv:** Contains detailed logs of user interactions (e.g., page view, addtocart, transaction) along with visitor IDs, timestamps, and item IDs.\n",
    "- **category_tree.csv:** Provides category information\n",
    "- **item_properties_part1.csv & item_properties_part2.csv:** Contain additional item attributes.\n",
    "- \n",
    "\n",
    "**Data Description (based on events.csv):**  \n",
    "- **Observations:**  The file contains over 2 million rows.\n",
    "- **Key Features:**\n",
    "    - `visitorid`: A unique identifier for each user (string or integer).  \n",
    "     - `timestamp`: A Unix timestamp (in seconds or milliseconds) that indicates when the event occurred.  \n",
    "     - `event`: A categorical variable describing the event type (e.g., `view`, `addtocart`, `transaction`).  \n",
    "     - `itemid`: An identifier for the item/product involved in the event. \n",
    "     - `transactionid`: Unique identifier of the transaction (non empty only for transaction event type).\n",
    "- **Data Structure:**  \n",
    "  Although the data is in a single table (events.csv), its sequential nature—where multiple events form a complete session—is key for understanding customer journeys.\n",
    "\n",
    "**Citation (APA):**  \n",
    "Retailrocket Recommender System Dataset. (n.d.). Retrieved from https://www.kaggle.com/datasets/retailrocket/ecommerce-dataset\n",
    "\n",
    "**Why This Dataset?**  \n",
    "The dataset offers detailed user interaction logs that are ideal for uncovering hidden patterns in customer behavior through unsupervised learning."
   ]
  },
  {
   "cell_type": "markdown",
   "metadata": {
    "_cell_guid": "a25d6215-6e3a-4063-b491-ef6e102cb9fb",
    "_uuid": "569e2f61-cd6b-4066-b666-168f7d98dbac",
    "collapsed": false,
    "jupyter": {
     "outputs_hidden": false
    },
    "trusted": true
   },
   "source": [
    "## 3. Data Loading and Cleaning\n",
    "\n",
    "**Objective:**  \n",
    "Before performing any analysis, it’s important to clean the data.\n",
    "- Load the main events dataset.\n",
    "- Check data types and handle missing values.\n",
    "- Convert the timestamp column to a datetime object and extract additional time-based features.\n",
    "- Group events by visitorid to generate session-level features.\n",
    "\n",
    "**Plan:**  \n",
    "1. Load events.csv.\n",
    "2. Inspect the data and clean up missing or inconsistent values.\n",
    "3. Create new features (e.g., hour, day).\n",
    "4. Aggregate data to form session summaries."
   ]
  },
  {
   "cell_type": "code",
   "execution_count": null,
   "metadata": {
    "_cell_guid": "0dc1865d-ce78-45b2-8079-1fc76fd734b2",
    "_uuid": "6d816583-ffd4-4220-ba40-fb2323d8fb31",
    "collapsed": false,
    "execution": {
     "iopub.execute_input": "2025-03-04T21:34:31.632492Z",
     "iopub.status.busy": "2025-03-04T21:34:31.632111Z",
     "iopub.status.idle": "2025-03-04T21:34:47.923871Z",
     "shell.execute_reply": "2025-03-04T21:34:47.922758Z",
     "shell.execute_reply.started": "2025-03-04T21:34:31.632461Z"
    },
    "jupyter": {
     "outputs_hidden": false
    },
    "trusted": true
   },
   "outputs": [],
   "source": [
    "import pandas as pd\n",
    "import numpy as np\n",
    "import matplotlib.pyplot as plt\n",
    "import seaborn as sns\n",
    "from datetime import datetime\n",
    "from sklearn.cluster import KMeans, DBSCAN\n",
    "from sklearn.decomposition import PCA\n",
    "from sklearn.metrics import silhouette_score\n",
    "from sklearn.preprocessing import StandardScaler\n",
    "import tensorflow as tf\n",
    "from tensorflow.keras.models import Model\n",
    "from tensorflow.keras.layers import Input, Dense\n",
    "from scipy.cluster.hierarchy import linkage, dendrogram\n",
    "import warnings\n",
    "\n",
    "warnings.filterwarnings(\"ignore\")"
   ]
  },
  {
   "cell_type": "markdown",
   "metadata": {
    "_cell_guid": "b1cc28d6-fcc8-4112-87c8-863d135fcde6",
    "_uuid": "a3f076e4-2db3-4180-a6f9-29c897b1299d",
    "collapsed": false,
    "jupyter": {
     "outputs_hidden": false
    },
    "trusted": true
   },
   "source": [
    "### Load the Dataset\n",
    "\n",
    "We will load the events.csv file which is our primary data source for customer journey analysis."
   ]
  },
  {
   "cell_type": "code",
   "execution_count": null,
   "metadata": {
    "_cell_guid": "31833b82-bde3-462e-9ff3-75c8394f3218",
    "_uuid": "bc8ce7f1-1b6e-4f26-88d7-5b1f38091e6a",
    "collapsed": false,
    "execution": {
     "iopub.execute_input": "2025-03-04T21:34:47.925988Z",
     "iopub.status.busy": "2025-03-04T21:34:47.925334Z",
     "iopub.status.idle": "2025-03-04T21:34:50.323725Z",
     "shell.execute_reply": "2025-03-04T21:34:50.322683Z",
     "shell.execute_reply.started": "2025-03-04T21:34:47.925955Z"
    },
    "jupyter": {
     "outputs_hidden": false
    },
    "trusted": true
   },
   "outputs": [
    {
     "name": "stdout",
     "output_type": "stream",
     "text": [
      "Events dataset loaded successfully!\n",
      "Shape of the events dataset: (2756101, 5)\n"
     ]
    },
    {
     "data": {
      "text/html": [
       "<div>\n",
       "<style scoped>\n",
       "    .dataframe tbody tr th:only-of-type {\n",
       "        vertical-align: middle;\n",
       "    }\n",
       "\n",
       "    .dataframe tbody tr th {\n",
       "        vertical-align: top;\n",
       "    }\n",
       "\n",
       "    .dataframe thead th {\n",
       "        text-align: right;\n",
       "    }\n",
       "</style>\n",
       "<table border=\"1\" class=\"dataframe\">\n",
       "  <thead>\n",
       "    <tr style=\"text-align: right;\">\n",
       "      <th></th>\n",
       "      <th>timestamp</th>\n",
       "      <th>visitorid</th>\n",
       "      <th>event</th>\n",
       "      <th>itemid</th>\n",
       "      <th>transactionid</th>\n",
       "    </tr>\n",
       "  </thead>\n",
       "  <tbody>\n",
       "    <tr>\n",
       "      <th>0</th>\n",
       "      <td>1433221332117</td>\n",
       "      <td>257597</td>\n",
       "      <td>view</td>\n",
       "      <td>355908</td>\n",
       "      <td>NaN</td>\n",
       "    </tr>\n",
       "    <tr>\n",
       "      <th>1</th>\n",
       "      <td>1433224214164</td>\n",
       "      <td>992329</td>\n",
       "      <td>view</td>\n",
       "      <td>248676</td>\n",
       "      <td>NaN</td>\n",
       "    </tr>\n",
       "    <tr>\n",
       "      <th>2</th>\n",
       "      <td>1433221999827</td>\n",
       "      <td>111016</td>\n",
       "      <td>view</td>\n",
       "      <td>318965</td>\n",
       "      <td>NaN</td>\n",
       "    </tr>\n",
       "    <tr>\n",
       "      <th>3</th>\n",
       "      <td>1433221955914</td>\n",
       "      <td>483717</td>\n",
       "      <td>view</td>\n",
       "      <td>253185</td>\n",
       "      <td>NaN</td>\n",
       "    </tr>\n",
       "    <tr>\n",
       "      <th>4</th>\n",
       "      <td>1433221337106</td>\n",
       "      <td>951259</td>\n",
       "      <td>view</td>\n",
       "      <td>367447</td>\n",
       "      <td>NaN</td>\n",
       "    </tr>\n",
       "  </tbody>\n",
       "</table>\n",
       "</div>"
      ],
      "text/plain": [
       "       timestamp  visitorid event  itemid  transactionid\n",
       "0  1433221332117     257597  view  355908            NaN\n",
       "1  1433224214164     992329  view  248676            NaN\n",
       "2  1433221999827     111016  view  318965            NaN\n",
       "3  1433221955914     483717  view  253185            NaN\n",
       "4  1433221337106     951259  view  367447            NaN"
      ]
     },
     "execution_count": 4,
     "metadata": {},
     "output_type": "execute_result"
    }
   ],
   "source": [
    "# Load events.csv\n",
    "df = pd.read_csv('/kaggle/input/ecommerce-dataset/events.csv')\n",
    "print(\"Events dataset loaded successfully!\")\n",
    "print(\"Shape of the events dataset:\", df.shape)\n",
    "df.head()"
   ]
  },
  {
   "cell_type": "markdown",
   "metadata": {
    "_cell_guid": "e6d98bc4-8700-4dc3-bdb2-527662cda36a",
    "_uuid": "e84b7ec3-cb80-4f64-b3dd-264163895da3",
    "collapsed": false,
    "jupyter": {
     "outputs_hidden": false
    },
    "trusted": true
   },
   "source": [
    "### Initial Data Inspection and Cleaning\n",
    "\n",
    "First, we check data types and look for missing values. The `timestamp` column is converted into a datetime object, and we extract additional features such as the hour and day of the week."
   ]
  },
  {
   "cell_type": "code",
   "execution_count": null,
   "metadata": {
    "_cell_guid": "bfb767b9-5ad6-4029-937d-0c30a31f2223",
    "_uuid": "cc37f7ff-c8b6-436a-9e2e-b11f2aeb4cd8",
    "collapsed": false,
    "execution": {
     "iopub.execute_input": "2025-03-04T21:34:50.325949Z",
     "iopub.status.busy": "2025-03-04T21:34:50.325682Z",
     "iopub.status.idle": "2025-03-04T21:34:50.967346Z",
     "shell.execute_reply": "2025-03-04T21:34:50.966282Z",
     "shell.execute_reply.started": "2025-03-04T21:34:50.325927Z"
    },
    "jupyter": {
     "outputs_hidden": false
    },
    "trusted": true
   },
   "outputs": [
    {
     "name": "stdout",
     "output_type": "stream",
     "text": [
      "<class 'pandas.core.frame.DataFrame'>\n",
      "RangeIndex: 2756101 entries, 0 to 2756100\n",
      "Data columns (total 5 columns):\n",
      " #   Column         Dtype  \n",
      "---  ------         -----  \n",
      " 0   timestamp      int64  \n",
      " 1   visitorid      int64  \n",
      " 2   event          object \n",
      " 3   itemid         int64  \n",
      " 4   transactionid  float64\n",
      "dtypes: float64(1), int64(3), object(1)\n",
      "memory usage: 105.1+ MB\n",
      "None\n",
      "\n",
      "Missing values in each column:\n",
      " transactionid    2733644\n",
      "dtype: int64\n"
     ]
    }
   ],
   "source": [
    "print(df.info())\n",
    "\n",
    "# Identify missing values\n",
    "missing_values = df.isnull().sum()\n",
    "print(\"\\nMissing values in each column:\\n\", missing_values[missing_values > 0])\n",
    "\n",
    "# Convert 'timestamp' to datetime\n",
    "if not np.issubdtype(df['timestamp'].dtype, np.datetime64):\n",
    "    df['timestamp'] = pd.to_datetime(df['timestamp'], unit='ms')\n",
    "    \n",
    "# Drop rows with invalid timestamps\n",
    "df = df.dropna(subset=['timestamp'])\n",
    "\n",
    "# Extract additional time-based features\n",
    "df['hour'] = df['timestamp'].dt.hour\n",
    "df['day'] = df['timestamp'].dt.dayofweek  # Monday=0, Sunday=6"
   ]
  },
  {
   "cell_type": "markdown",
   "metadata": {
    "_cell_guid": "2836b70a-f2cb-49aa-848f-fbe06d5eaad8",
    "_uuid": "db696851-32af-45c3-be9d-f6e0c21ce270",
    "collapsed": false,
    "jupyter": {
     "outputs_hidden": false
    },
    "trusted": true
   },
   "source": [
    "### Visitor-Based Feature Engineering\n",
    "\n",
    "To analyze customer journeys, we group events by `visitorid`. For each visitor, we compute:\n",
    "- **Event Count:** Total number of events by the visitor.\n",
    "- **Session Duration:** Difference between the first and last event of that visitor.\n",
    "- **Average Session Hour:** The mean hour at which events occurred.\n",
    "- **Event Type Counts:** Total number of addtocart, view, and transaction.\n",
    "\n",
    "These visitor-level features will serve as the basis for our clustering analysis."
   ]
  },
  {
   "cell_type": "code",
   "execution_count": null,
   "metadata": {
    "_cell_guid": "685a0c12-60ce-418c-8e23-8c460768d85d",
    "_uuid": "b307fbad-946b-4e4a-bf20-195ac08f9d4f",
    "collapsed": false,
    "execution": {
     "iopub.execute_input": "2025-03-04T21:34:50.969124Z",
     "iopub.status.busy": "2025-03-04T21:34:50.968835Z",
     "iopub.status.idle": "2025-03-04T21:42:26.467805Z",
     "shell.execute_reply": "2025-03-04T21:42:26.466756Z",
     "shell.execute_reply.started": "2025-03-04T21:34:50.969100Z"
    },
    "jupyter": {
     "outputs_hidden": false
    },
    "trusted": true
   },
   "outputs": [
    {
     "data": {
      "text/html": [
       "<div>\n",
       "<style scoped>\n",
       "    .dataframe tbody tr th:only-of-type {\n",
       "        vertical-align: middle;\n",
       "    }\n",
       "\n",
       "    .dataframe tbody tr th {\n",
       "        vertical-align: top;\n",
       "    }\n",
       "\n",
       "    .dataframe thead th {\n",
       "        text-align: right;\n",
       "    }\n",
       "</style>\n",
       "<table border=\"1\" class=\"dataframe\">\n",
       "  <thead>\n",
       "    <tr style=\"text-align: right;\">\n",
       "      <th></th>\n",
       "      <th>event_count</th>\n",
       "      <th>start_time</th>\n",
       "      <th>end_time</th>\n",
       "      <th>avg_hour</th>\n",
       "      <th>addtocart</th>\n",
       "      <th>view</th>\n",
       "      <th>transaction</th>\n",
       "      <th>duration_min</th>\n",
       "    </tr>\n",
       "    <tr>\n",
       "      <th>visitorid</th>\n",
       "      <th></th>\n",
       "      <th></th>\n",
       "      <th></th>\n",
       "      <th></th>\n",
       "      <th></th>\n",
       "      <th></th>\n",
       "      <th></th>\n",
       "      <th></th>\n",
       "    </tr>\n",
       "  </thead>\n",
       "  <tbody>\n",
       "    <tr>\n",
       "      <th>0</th>\n",
       "      <td>3</td>\n",
       "      <td>2015-09-11 20:49:49.439</td>\n",
       "      <td>2015-09-11 20:55:17.175</td>\n",
       "      <td>20.0</td>\n",
       "      <td>0</td>\n",
       "      <td>3</td>\n",
       "      <td>0</td>\n",
       "      <td>5.462267</td>\n",
       "    </tr>\n",
       "    <tr>\n",
       "      <th>1</th>\n",
       "      <td>1</td>\n",
       "      <td>2015-08-13 17:46:06.444</td>\n",
       "      <td>2015-08-13 17:46:06.444</td>\n",
       "      <td>17.0</td>\n",
       "      <td>0</td>\n",
       "      <td>1</td>\n",
       "      <td>0</td>\n",
       "      <td>0.000000</td>\n",
       "    </tr>\n",
       "    <tr>\n",
       "      <th>10</th>\n",
       "      <td>1</td>\n",
       "      <td>2015-08-04 18:30:29.611</td>\n",
       "      <td>2015-08-04 18:30:29.611</td>\n",
       "      <td>18.0</td>\n",
       "      <td>0</td>\n",
       "      <td>1</td>\n",
       "      <td>0</td>\n",
       "      <td>0.000000</td>\n",
       "    </tr>\n",
       "    <tr>\n",
       "      <th>100</th>\n",
       "      <td>4</td>\n",
       "      <td>2015-09-08 23:48:55.990</td>\n",
       "      <td>2015-09-08 23:52:54.884</td>\n",
       "      <td>23.0</td>\n",
       "      <td>0</td>\n",
       "      <td>4</td>\n",
       "      <td>0</td>\n",
       "      <td>3.981567</td>\n",
       "    </tr>\n",
       "    <tr>\n",
       "      <th>1000</th>\n",
       "      <td>1</td>\n",
       "      <td>2015-07-05 13:38:36.161</td>\n",
       "      <td>2015-07-05 13:38:36.161</td>\n",
       "      <td>13.0</td>\n",
       "      <td>0</td>\n",
       "      <td>1</td>\n",
       "      <td>0</td>\n",
       "      <td>0.000000</td>\n",
       "    </tr>\n",
       "  </tbody>\n",
       "</table>\n",
       "</div>"
      ],
      "text/plain": [
       "           event_count              start_time                end_time  \\\n",
       "visitorid                                                                \n",
       "0                    3 2015-09-11 20:49:49.439 2015-09-11 20:55:17.175   \n",
       "1                    1 2015-08-13 17:46:06.444 2015-08-13 17:46:06.444   \n",
       "10                   1 2015-08-04 18:30:29.611 2015-08-04 18:30:29.611   \n",
       "100                  4 2015-09-08 23:48:55.990 2015-09-08 23:52:54.884   \n",
       "1000                 1 2015-07-05 13:38:36.161 2015-07-05 13:38:36.161   \n",
       "\n",
       "           avg_hour  addtocart  view  transaction  duration_min  \n",
       "visitorid                                                        \n",
       "0              20.0          0     3            0      5.462267  \n",
       "1              17.0          0     1            0      0.000000  \n",
       "10             18.0          0     1            0      0.000000  \n",
       "100            23.0          0     4            0      3.981567  \n",
       "1000           13.0          0     1            0      0.000000  "
      ]
     },
     "execution_count": 6,
     "metadata": {},
     "output_type": "execute_result"
    }
   ],
   "source": [
    "# Convert visitorid to string if not already\n",
    "df['visitorid'] = df['visitorid'].astype(str)\n",
    "\n",
    "# Group data by visitorid\n",
    "visitor_groups = df.groupby('visitorid')\n",
    "\n",
    "# Create a DataFrame for visitor-level features\n",
    "visitor_df = pd.DataFrame()\n",
    "\n",
    "# Count events by type for each visitor\n",
    "visitor_df = visitor_groups.agg(\n",
    "    event_count=('event', 'size'),\n",
    "    start_time=('timestamp', 'min'),\n",
    "    end_time=('timestamp', 'max'),\n",
    "    avg_hour=('hour', 'mean'),\n",
    "    addtocart=('event', lambda x: (x == 'addtocart').sum()),\n",
    "    view=('event', lambda x: (x == 'view').sum()),\n",
    "    transaction=('event', lambda x: (x == 'transaction').sum())\n",
    ")\n",
    "\n",
    "visitor_df['duration_min'] = (visitor_df['end_time'] - visitor_df['start_time']).dt.total_seconds() / 60\n",
    "\n",
    "visitor_df.head()"
   ]
  },
  {
   "cell_type": "markdown",
   "metadata": {
    "_cell_guid": "f5f2deae-faf6-401c-9c46-7c3c28b82e43",
    "_uuid": "2b23d5f5-e3b5-4a85-8bc7-7beb85622589",
    "collapsed": false,
    "jupyter": {
     "outputs_hidden": false
    },
    "trusted": true
   },
   "source": [
    "## 4. Exploratory Data Analysis (EDA)\n",
    "\n",
    "Next, we explore these visitor-level features to understand customer journey patterns. We'll examine:\n",
    "- The distribution of visitor activity durations and event counts.\n",
    "- Temporal patterns (like average activity hour) to see peak engagement.\n",
    "- Correlations among features to understand relationships between different aspects of user behavior."
   ]
  },
  {
   "cell_type": "markdown",
   "metadata": {
    "_cell_guid": "c5098729-4df4-44af-ae26-6c1654f7673b",
    "_uuid": "85174f5c-b819-4a2b-b54e-ff514ab369f8",
    "collapsed": false,
    "jupyter": {
     "outputs_hidden": false
    },
    "trusted": true
   },
   "source": [
    "### Distribution of Duration and Event Counts\n",
    "\n",
    "We plot histograms for the visitor's duration and the total number of events. This helps reveal if there are natural groupings, such as casual visitors versus highly engaged users."
   ]
  },
  {
   "cell_type": "code",
   "execution_count": null,
   "metadata": {
    "_cell_guid": "474dd04d-9f9e-47fd-823b-da72fd9310dc",
    "_uuid": "953a3fa5-0573-4ba6-9fe3-8554dc447a2b",
    "collapsed": false,
    "jupyter": {
     "outputs_hidden": false
    },
    "trusted": true
   },
   "outputs": [],
   "source": [
    "# Histogram for visitor duration\n",
    "plt.figure()\n",
    "sns.histplot(visitor_df['duration_min'])\n",
    "plt.title(\"Distribution of Visitor Duration (minutes)\")\n",
    "plt.xlabel(\"Duration (minutes)\")\n",
    "plt.ylabel(\"Frequency\")\n",
    "plt.show()\n",
    "\n",
    "# Histogram for event count per visitor\n",
    "plt.figure()\n",
    "sns.histplot(visitor_df['event_count'])\n",
    "plt.title(\"Distribution of Event Count per Visitor\")\n",
    "plt.xlabel(\"Number of Events\")\n",
    "plt.ylabel(\"Frequency\")\n",
    "plt.show()"
   ]
  },
  {
   "cell_type": "markdown",
   "metadata": {
    "_cell_guid": "a76a2a36-f7c3-4015-b177-d0e9c1a28c4b",
    "_uuid": "7a808854-fdc0-4597-9080-f6fae46ca597",
    "collapsed": false,
    "jupyter": {
     "outputs_hidden": false
    },
    "trusted": true
   },
   "source": [
    "### Temporal Patterns in Visitor Activity\n",
    "\n",
    "We plot the distribution of average activity hour to see when visitors are most active. This can help determine peak engagement times."
   ]
  },
  {
   "cell_type": "code",
   "execution_count": null,
   "metadata": {
    "_cell_guid": "27d40422-cb43-44fa-8077-323fa5ed3e98",
    "_uuid": "5803f079-97e0-48b3-b32e-c7831d274e2c",
    "collapsed": false,
    "execution": {
     "iopub.execute_input": "2025-03-04T21:42:34.460288Z",
     "iopub.status.busy": "2025-03-04T21:42:34.460030Z",
     "iopub.status.idle": "2025-03-04T21:42:35.613484Z",
     "shell.execute_reply": "2025-03-04T21:42:35.612335Z",
     "shell.execute_reply.started": "2025-03-04T21:42:34.460267Z"
    },
    "jupyter": {
     "outputs_hidden": false
    },
    "trusted": true
   },
   "outputs": [
    {
     "data": {
      "image/png": "[encoded data removed]",
      "text/plain": [
       "<Figure size 640x480 with 1 Axes>"
      ]
     },
     "metadata": {},
     "output_type": "display_data"
    }
   ],
   "source": [
    "plt.figure()\n",
    "sns.histplot(visitor_df['avg_hour'], bins=24)\n",
    "plt.title(\"Distribution of Average Visitor Hour\")\n",
    "plt.xlabel(\"Hour of Day\")\n",
    "plt.ylabel(\"Frequency\")\n",
    "plt.show()"
   ]
  },
  {
   "cell_type": "markdown",
   "metadata": {
    "_cell_guid": "65fdce22-cb71-447c-b9c6-7363f27fc6a9",
    "_uuid": "60f4c019-36f5-40ba-ab96-da9f57c88aac",
    "collapsed": false,
    "jupyter": {
     "outputs_hidden": false
    },
    "trusted": true
   },
   "source": [
    "### Correlation among Visitor-Level Features\n",
    "\n",
    "The correlation matrix helps us see how features like event count, duration, and specific event types are related. This insight informs our feature selection for clustering."
   ]
  },
  {
   "cell_type": "code",
   "execution_count": null,
   "metadata": {
    "_cell_guid": "989c34c7-6053-4e13-a0d2-f705549aeeca",
    "_uuid": "8b1faf83-287e-46fc-955a-ecc0cb4526c2",
    "collapsed": false,
    "execution": {
     "iopub.execute_input": "2025-03-04T21:42:35.615047Z",
     "iopub.status.busy": "2025-03-04T21:42:35.614758Z",
     "iopub.status.idle": "2025-03-04T21:42:36.168464Z",
     "shell.execute_reply": "2025-03-04T21:42:36.167372Z",
     "shell.execute_reply.started": "2025-03-04T21:42:35.615023Z"
    },
    "jupyter": {
     "outputs_hidden": false
    },
    "trusted": true
   },
   "outputs": [
    {
     "data": {
      "image/png": "[encoded data removed]",
      "text/plain": [
       "<Figure size 640x480 with 2 Axes>"
      ]
     },
     "metadata": {},
     "output_type": "display_data"
    }
   ],
   "source": [
    "corr = visitor_df[['event_count', 'duration_min', 'addtocart', 'view', 'transaction', 'avg_hour']].corr()\n",
    "sns.heatmap(corr, annot=True, cmap='coolwarm')\n",
    "plt.title(\"Correlation Matrix for Visitor-Level Features\")\n",
    "plt.show()"
   ]
  },
  {
   "cell_type": "markdown",
   "metadata": {},
   "source": [
    "**Goals of EDA**\n",
    "- Understand the distribution of key variables (e.g., number of events per visitor, time spent).  \n",
    "- Look for potential data imbalances or anomalies (e.g., outliers with extremely high event counts).  \n",
    "- Generate insights on how to structure or transform data for clustering.\n",
    "                                                         \n",
    "**Visualizations and Findings**:\n",
    "**Histograms**  \n",
    " - We create histograms for `duration_min` and `event_count` to see if visitors mostly have short interactions or if there’s a long tail of highly engaged visitors.  \n",
    " - We note if the data is heavily right-skewed, which might motivate a log transform in some models.\n",
    "\n",
    "**Correlation Matrix**  \n",
    " - We examine correlations among features like `addtocart`, `views`, `transaction`, `duration_min`, etc. A strong correlation between `views` and `clicks` might indicate that users who view many items also tend to click frequently.  \n",
    " - If we see very high correlation between certain features, we may consider dimension reduction or dropping redundant features.  \n",
    "\n",
    "**Potential Issues Found**  \n",
    "  - We check for extremely large durations (which might be an artifact of the data or a single visitor returning months later). We can decide whether to keep or filter them out depending on domain context.  \n",
    "\n",
    "**Conclusion/Discussion**:  \n",
    "- The EDA suggests that we have a long-tail distribution for both duration and event counts. We keep all visitors for the clustering but remain mindful that outliers might form their own cluster or distort results.  \n",
    "- We do not see strong data imbalance in terms of event types (like only 10 transactions overall) that would require special treatment, but if we did, we would note it here.\n"
   ]
  },
  {
   "cell_type": "markdown",
   "metadata": {
    "_cell_guid": "e4e4ccab-3193-4489-9223-7ca71aa85721",
    "_uuid": "da34e787-d302-49c0-a976-6f81a0d63a90",
    "collapsed": false,
    "jupyter": {
     "outputs_hidden": false
    },
    "trusted": true
   },
   "source": [
    "## 5. Unsupervised Modeling and Analysis\n",
    "\n",
    "Our next step is to segment the visitors into distinct clusters based on their behavior. We’ll:\n",
    "- Select and scale our features.\n",
    "- Apply K-Means clustering and determine the optimal number of clusters.\n",
    "- Visualize the clusters using PCA.\n",
    "- Profile the clusters to interpret different visitor behaviors.\n",
    "\n",
    "**Features Used:**  \n",
    "- Event count, duration, counts of addtocart, view, transaction, and average hour."
   ]
  },
  {
   "cell_type": "markdown",
   "metadata": {
    "_cell_guid": "de79ff57-aad4-4489-9bd3-490bd58c7bf2",
    "_uuid": "0b1eaca6-c3a8-4957-ba82-6327e8dda282",
    "collapsed": false,
    "jupyter": {
     "outputs_hidden": false
    },
    "trusted": true
   },
   "source": [
    "### Feature Selection and Scaling\n",
    "\n",
    "We extract the chosen features from visitor_df and standardize them so each feature contributes equally to the clustering."
   ]
  },
  {
   "cell_type": "code",
   "execution_count": null,
   "metadata": {
    "_cell_guid": "47fedf68-a45a-4db6-bbc1-f14f8a31d103",
    "_uuid": "c1b820d7-3080-49c0-8ea3-de6574d7c862",
    "collapsed": false,
    "execution": {
     "iopub.execute_input": "2025-03-04T21:42:36.169713Z",
     "iopub.status.busy": "2025-03-04T21:42:36.169394Z",
     "iopub.status.idle": "2025-03-04T21:42:36.434847Z",
     "shell.execute_reply": "2025-03-04T21:42:36.433666Z",
     "shell.execute_reply.started": "2025-03-04T21:42:36.169677Z"
    },
    "jupyter": {
     "outputs_hidden": false
    },
    "trusted": true
   },
   "outputs": [],
   "source": [
    "features = visitor_df[['event_count', 'duration_min', 'addtocart', 'view', 'transaction', 'avg_hour']].copy()\n",
    "scaler = StandardScaler()\n",
    "X_scaled = scaler.fit_transform(features)"
   ]
  },
  {
   "cell_type": "markdown",
   "metadata": {
    "_cell_guid": "e4465e06-a321-43f9-a76f-fd1a864bb5e2",
    "_uuid": "e7a10b94-9588-4550-a204-ce23f628adb3",
    "collapsed": false,
    "jupyter": {
     "outputs_hidden": false
    },
    "trusted": true
   },
   "source": [
    "### K-Means Clustering and Optimal Cluster Determination\n",
    "\n",
    "I applied K-Means clustering. To decide the best number of clusters, I used:\n",
    "- The elbow method (plotting inertia).\n",
    "- Silhouette scores to measure clustering quality.\n",
    "\n",
    "This will help us determine a reasonable value for k."
   ]
  },
  {
   "cell_type": "code",
   "execution_count": null,
   "metadata": {
    "_cell_guid": "0a8be6a3-3dcd-4595-8b6c-eabf12c5852e",
    "_uuid": "1db2b917-7a94-448b-bf71-1e49cff4769c",
    "collapsed": false,
    "jupyter": {
     "outputs_hidden": false
    },
    "trusted": true
   },
   "outputs": [],
   "source": [
    "inertia = []\n",
    "sil_scores = []\n",
    "K_range = range(2, 11)\n",
    "for k in K_range:\n",
    "    kmeans = KMeans(n_clusters=k, random_state=42)\n",
    "    kmeans.fit(X_scaled)\n",
    "    inertia.append(kmeans.inertia_)\n",
    "    sil_scores.append(silhouette_score(X_scaled, kmeans.labels_))\n",
    "\n",
    "# Plot inertia (Elbow Method)\n",
    "plt.figure()\n",
    "plt.plot(K_range, inertia, 'bo-')\n",
    "plt.title(\"Elbow Method for Optimal K\")\n",
    "plt.xlabel(\"Number of Clusters (k)\")\n",
    "plt.ylabel(\"Inertia\")\n",
    "plt.show()\n",
    "\n",
    "# Plot Silhouette Scores\n",
    "plt.figure()\n",
    "plt.plot(K_range, sil_scores, 'ro-')\n",
    "plt.title(\"Silhouette Scores for K-Means\")\n",
    "plt.xlabel(\"Number of Clusters (k)\")\n",
    "plt.ylabel(\"Silhouette Score\")\n",
    "plt.show()\n",
    "\n",
    "# Assume k=4 is optimal based on these plots.\n",
    "optimal_k = 4\n",
    "kmeans = KMeans(n_clusters=optimal_k, random_state=42)\n",
    "visitor_df['cluster'] = kmeans.fit_predict(X_scaled)\n",
    "print(\"K-Means Cluster distribution:\")\n",
    "print(visitor_df['cluster'].value_counts())"
   ]
  },
  {
   "cell_type": "markdown",
   "metadata": {
    "_cell_guid": "24f2523b-8836-449c-9685-49c0fd4b7b08",
    "_uuid": "324c58fd-adb4-4e62-9d12-39dc4b663f3d",
    "collapsed": false,
    "jupyter": {
     "outputs_hidden": false
    },
    "trusted": true
   },
   "source": [
    "### Dimensionality Reduction for Visualization\n",
    "\n",
    "Using PCA, we reduce the feature space to 2 dimensions so that we can visualize the clusters and see how well they separate."
   ]
  },
  {
   "cell_type": "code",
   "execution_count": null,
   "metadata": {
    "_cell_guid": "cb64e48c-661b-4072-baa5-8b5e8ec0f35d",
    "_uuid": "eed5d36f-31fd-4164-98ad-95845ee91eb7",
    "collapsed": false,
    "jupyter": {
     "outputs_hidden": false
    },
    "trusted": true
   },
   "outputs": [],
   "source": [
    "pca = PCA(n_components=2, random_state=42)\n",
    "components = pca.fit_transform(X_scaled)\n",
    "visitor_df['pca1'] = components[:, 0]\n",
    "visitor_df['pca2'] = components[:, 1]\n",
    "\n",
    "plt.figure()\n",
    "sns.scatterplot(data=visitor_df, x='pca1', y='pca2', hue='cluster', palette='Set2')\n",
    "plt.title(\"PCA of Visitor Features Colored by K-Means Clusters\")\n",
    "plt.xlabel(\"Principal Component 1\")\n",
    "plt.ylabel(\"Principal Component 2\")\n",
    "plt.legend(title=\"Cluster\")\n",
    "plt.show()"
   ]
  },
  {
   "cell_type": "markdown",
   "metadata": {
    "_cell_guid": "3fa41ad0-2e49-459e-8f47-9a206b92c6ba",
    "_uuid": "dd5fcba4-4b2d-406c-808b-da91020090cf",
    "collapsed": false,
    "jupyter": {
     "outputs_hidden": false
    },
    "trusted": true
   },
   "source": [
    "### Cluster Profiling and Interpretation\n",
    "\n",
    "Now, we profile each cluster by computing the average values of our features. This helps us understand what each cluster represents—for example, which clusters indicate short, low-engagement visits versus longer, highly interactive sessions."
   ]
  },
  {
   "cell_type": "code",
   "execution_count": null,
   "metadata": {
    "_cell_guid": "dbf8ada7-26d7-4ed0-9b61-63b1fdc60b9d",
    "_uuid": "61e73264-57b6-4ae9-838d-c5eb95b51bc9",
    "collapsed": false,
    "jupyter": {
     "outputs_hidden": false
    },
    "trusted": true
   },
   "outputs": [],
   "source": [
    "cluster_profiles = visitor_df.groupby('cluster').mean()[['event_count', 'duration_min', 'addtocart', 'view', 'transaction', 'avg_hour']]\n",
    "print(\"Cluster Profiles:\")\n",
    "print(cluster_profiles)"
   ]
  },
  {
   "cell_type": "markdown",
   "metadata": {
    "_cell_guid": "0ae74b6d-47ea-4ec8-b642-e2a3a69a396b",
    "_uuid": "a65703df-38a8-4984-9e14-a1b2eadbcc31",
    "collapsed": false,
    "jupyter": {
     "outputs_hidden": false
    },
    "trusted": true
   },
   "source": [
    "## 6. Extended Clustering Analysis\n",
    "\n",
    "To dive deeper into the data, I also applied Hierarchical Clustering to see the nested structure of clusters. This can help uncover more nuanced patterns in visitor behavior."
   ]
  },
  {
   "cell_type": "markdown",
   "metadata": {
    "_cell_guid": "a7e026bd-2d13-4de2-86c5-effd9c838f78",
    "_uuid": "d4fa2ecf-f0c6-49df-8850-2145dd425c3c",
    "collapsed": false,
    "jupyter": {
     "outputs_hidden": false
    },
    "trusted": true
   },
   "source": [
    "### Hierarchical Clustering and Dendrogram\n",
    "\n",
    "I used Ward’s method to generate a dendrogram. This visually represents how visitor clusters merge and helps in understanding the data's inherent structure."
   ]
  },
  {
   "cell_type": "code",
   "execution_count": null,
   "metadata": {
    "_cell_guid": "3ee24de5-b93f-40cb-b429-03b4b7b69895",
    "_uuid": "f32c5ffc-3649-4202-ac7b-ee027546b4ed",
    "collapsed": false,
    "jupyter": {
     "outputs_hidden": false
    },
    "trusted": true
   },
   "outputs": [],
   "source": [
    "linkage_matrix = linkage(X_scaled, method='ward')\n",
    "\n",
    "plt.figure(figsize=(12, 6))\n",
    "dendrogram(linkage_matrix, truncate_mode='level', p=5, leaf_rotation=90)\n",
    "plt.title(\"Hierarchical Clustering Dendrogram (truncated)\")\n",
    "plt.xlabel(\"Sample index or Cluster size\")\n",
    "plt.ylabel(\"Distance\")\n",
    "plt.show()"
   ]
  },
  {
   "cell_type": "markdown",
   "metadata": {
    "_cell_guid": "60328f0d-95d1-4747-b73d-394a8b034a1e",
    "_uuid": "52d8019a-a127-4d82-aeea-1cb61b59244f",
    "collapsed": false,
    "jupyter": {
     "outputs_hidden": false
    },
    "trusted": true
   },
   "source": [
    "## 7. Extended Discussion and Future Directions\n",
    "\n",
    "**Summary of Findings:**  \n",
    "The unsupervised analysis shows that visitor behavior naturally groups into distinct clusters. K-Means reveals that some visitors have low event counts and short durations (likely casual browsers), while others exhibit longer, highly interactive sessions (potential buyers or engaged users). Hierarchical clustering suggests a nested structure.\n",
    "\n",
    "**Implications:**  \n",
    "These insights are valuable for e-commerce businesses. For example, visitors with high engagement could be targeted for personalized promotions, while low-engagement visitors might benefit from site optimizations to boost interest. \n",
    "\n",
    "**Future Directions:**  \n",
    "Future work could focus on refining feature engineering by incorporating additional data (such as item properties or category information from the other provided files), exploring more advanced clustering algorithms, or experimenting with deep learning methods like variational autoencoders. Ensemble clustering techniques might also help improve segmentation robustness.\n",
    "\n",
    "**Conclusion:**  \n",
    "This extended unsupervised analysis demonstrates that multiple clustering techniques can provide deep insights into visitor behavior. The clusters identified here lay a strong foundation for personalized marketing, website optimization, and further research in customer journey analysis."
   ]
  }
 ],
 "metadata": {
  "kaggle": {
   "accelerator": "none",
   "dataSources": [
    {
     "datasetId": 1031,
     "sourceId": 4471234,
     "sourceType": "datasetVersion"
    }
   ],
   "dockerImageVersionId": 30918,
   "isGpuEnabled": false,
   "isInternetEnabled": false,
   "language": "python",
   "sourceType": "notebook"
  },
  "kernelspec": {
   "display_name": "Python 3",
   "language": "python",
   "name": "python3"
  },
  "language_info": {
   "codemirror_mode": {
    "name": "ipython",
    "version": 3
   },
   "file_extension": ".py",
   "mimetype": "text/x-python",
   "name": "python",
   "nbconvert_exporter": "python",
   "pygments_lexer": "ipython3",
   "version": "3.10.12"
  }
 },
 "nbformat": 4,
 "nbformat_minor": 4
}
